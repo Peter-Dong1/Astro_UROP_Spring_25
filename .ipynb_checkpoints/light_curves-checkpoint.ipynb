{
 "cells": [
  {
   "cell_type": "markdown",
   "id": "28a0c240-024d-4ac1-92aa-2060074eb65c",
   "metadata": {
    "tags": []
   },
   "source": [
    "# Visualizing Light Curves #"
   ]
  },
  {
   "cell_type": "markdown",
   "id": "3879ed88-b6c9-44a1-b779-67d2c1f28fbe",
   "metadata": {
    "tags": []
   },
   "source": [
    "## Import Statements"
   ]
  },
  {
   "cell_type": "code",
   "execution_count": 2,
   "id": "776d14ae-e341-431f-a069-095497766e22",
   "metadata": {
    "tags": []
   },
   "outputs": [],
   "source": [
    "import os\n",
    "import glob\n",
    "import pandas as pd\n",
    "import matplotlib.pyplot as plt\n",
    "from astropy.io import fits\n",
    "import random\n"
   ]
  },
  {
   "cell_type": "markdown",
   "id": "d0ba236f-737d-4362-9564-be7c63d97bac",
   "metadata": {
    "tags": []
   },
   "source": [
    "## Functions to load light curves ##"
   ]
  },
  {
   "cell_type": "code",
   "execution_count": 3,
   "id": "b306396b-0504-47a1-9604-17ee21400816",
   "metadata": {
    "tags": []
   },
   "outputs": [],
   "source": [
    "# Path to the directory containing the FITS files\n",
    "data_dir = '/pool001/rarcodia/eROSITA_public/data/eRASS1_lc_rebinned'\n",
    "\n",
    "# Function to load a single FITS file and return as a Pandas DataFrame\n",
    "def load_light_curve(file_path, band = 1):\n",
    "    with fits.open(file_path) as hdul:\n",
    "        data = hdul[1].data  # Assuming light curve data is in the second HDU\n",
    "        try:\n",
    "            return pd.DataFrame({\n",
    "                'TIME': data['TIME'],\n",
    "                'TIMEDEL': data['TIMEDEL'],\n",
    "                'RATE': data['RATE'][:, band],  # Use the second energy range\n",
    "            })\n",
    "        except KeyError:\n",
    "            print(f\"Skipping file {file_path}: some key not found\")\n",
    "            return None"
   ]
  },
  {
   "cell_type": "code",
   "execution_count": 8,
   "id": "bdc9ea3d-2ed5-42a8-87e1-66d2b1a5fbdb",
   "metadata": {
    "tags": []
   },
   "outputs": [
    {
     "name": "stdout",
     "output_type": "stream",
     "text": [
      "Saved inaccessible files list to: /orcd/home/002/pdong/Astro UROP/inaccessible_lightcurves.txt\n",
      "/pool001/rarcodia/eROSITA_public/data/eRASS1_lc_rebinned/em01_039108_020_LightCurve_00089_c010_rebinned.fits\n",
      "/pool001/rarcodia/eROSITA_public/data/eRASS1_lc_rebinned/em01_041171_020_LightCurve_00067_c010_rebinned.fits\n",
      "/pool001/rarcodia/eROSITA_public/data/eRASS1_lc_rebinned/em01_045132_020_LightCurve_00051_c010_rebinned.fits\n",
      "/pool001/rarcodia/eROSITA_public/data/eRASS1_lc_rebinned/em01_072105_020_LightCurve_00016_c010_rebinned.fits\n",
      "/pool001/rarcodia/eROSITA_public/data/eRASS1_lc_rebinned/em01_062144_020_LightCurve_00087_c010_rebinned.fits\n",
      "/pool001/rarcodia/eROSITA_public/data/eRASS1_lc_rebinned/em01_039108_020_LightCurve_00177_c010_rebinned.fits\n",
      "/pool001/rarcodia/eROSITA_public/data/eRASS1_lc_rebinned/em01_056174_020_LightCurve_00052_c010_rebinned.fits\n",
      "/pool001/rarcodia/eROSITA_public/data/eRASS1_lc_rebinned/em01_049108_020_LightCurve_00103_c010_rebinned.fits\n",
      "/pool001/rarcodia/eROSITA_public/data/eRASS1_lc_rebinned/em01_053132_020_LightCurve_00119_c010_rebinned.fits\n",
      "/pool001/rarcodia/eROSITA_public/data/eRASS1_lc_rebinned/em01_057171_020_LightCurve_00036_c010_rebinned.fits\n",
      "/pool001/rarcodia/eROSITA_public/data/eRASS1_lc_rebinned/em01_020126_020_LightCurve_00115_c010_rebinned.fits\n",
      "/pool001/rarcodia/eROSITA_public/data/eRASS1_lc_rebinned/em01_025129_020_LightCurve_00034_c010_rebinned.fits\n",
      "/pool001/rarcodia/eROSITA_public/data/eRASS1_lc_rebinned/em01_033108_020_LightCurve_00204_c010_rebinned.fits\n",
      "/pool001/rarcodia/eROSITA_public/data/eRASS1_lc_rebinned/em01_020126_020_LightCurve_00219_c010_rebinned.fits\n",
      "/pool001/rarcodia/eROSITA_public/data/eRASS1_lc_rebinned/em01_030132_020_LightCurve_00089_c010_rebinned.fits\n",
      "/pool001/rarcodia/eROSITA_public/data/eRASS1_lc_rebinned/em01_061147_020_LightCurve_00511_c010_rebinned.fits\n",
      "/pool001/rarcodia/eROSITA_public/data/eRASS1_lc_rebinned/em01_055117_020_LightCurve_00080_c010_rebinned.fits\n",
      "/pool001/rarcodia/eROSITA_public/data/eRASS1_lc_rebinned/em01_029120_020_LightCurve_00020_c010_rebinned.fits\n",
      "/pool001/rarcodia/eROSITA_public/data/eRASS1_lc_rebinned/em01_055108_020_LightCurve_00009_c010_rebinned.fits\n",
      "/pool001/rarcodia/eROSITA_public/data/eRASS1_lc_rebinned/em01_047096_020_LightCurve_00077_c010_rebinned.fits\n",
      "/pool001/rarcodia/eROSITA_public/data/eRASS1_lc_rebinned/em01_015138_020_LightCurve_00049_c010_rebinned.fits\n",
      "/pool001/rarcodia/eROSITA_public/data/eRASS1_lc_rebinned/em01_066156_020_LightCurve_00141_c010_rebinned.fits\n",
      "/pool001/rarcodia/eROSITA_public/data/eRASS1_lc_rebinned/em01_062144_020_LightCurve_00114_c010_rebinned.fits\n",
      "/pool001/rarcodia/eROSITA_public/data/eRASS1_lc_rebinned/em01_058165_020_LightCurve_00219_c010_rebinned.fits\n",
      "/pool001/rarcodia/eROSITA_public/data/eRASS1_lc_rebinned/em01_055108_020_LightCurve_00034_c010_rebinned.fits\n",
      "/pool001/rarcodia/eROSITA_public/data/eRASS1_lc_rebinned/em01_049111_020_LightCurve_00049_c010_rebinned.fits\n",
      "/pool001/rarcodia/eROSITA_public/data/eRASS1_lc_rebinned/em01_059129_020_LightCurve_00085_c010_rebinned.fits\n",
      "/pool001/rarcodia/eROSITA_public/data/eRASS1_lc_rebinned/em01_025129_020_LightCurve_00134_c010_rebinned.fits\n",
      "/pool001/rarcodia/eROSITA_public/data/eRASS1_lc_rebinned/em01_036120_020_LightCurve_00151_c010_rebinned.fits\n",
      "/pool001/rarcodia/eROSITA_public/data/eRASS1_lc_rebinned/em01_074120_020_LightCurve_00087_c010_rebinned.fits\n",
      "/pool001/rarcodia/eROSITA_public/data/eRASS1_lc_rebinned/em01_045147_020_LightCurve_00119_c010_rebinned.fits\n",
      "/pool001/rarcodia/eROSITA_public/data/eRASS1_lc_rebinned/em01_041102_020_LightCurve_00188_c010_rebinned.fits\n",
      "/pool001/rarcodia/eROSITA_public/data/eRASS1_lc_rebinned/em01_060135_020_LightCurve_00335_c010_rebinned.fits\n",
      "/pool001/rarcodia/eROSITA_public/data/eRASS1_lc_rebinned/em01_079123_020_LightCurve_00012_c010_rebinned.fits\n",
      "/pool001/rarcodia/eROSITA_public/data/eRASS1_lc_rebinned/em01_043111_020_LightCurve_00127_c010_rebinned.fits\n",
      "/pool001/rarcodia/eROSITA_public/data/eRASS1_lc_rebinned/em01_041114_020_LightCurve_00030_c010_rebinned.fits\n",
      "/pool001/rarcodia/eROSITA_public/data/eRASS1_lc_rebinned/em01_054105_020_LightCurve_00057_c010_rebinned.fits\n",
      "/pool001/rarcodia/eROSITA_public/data/eRASS1_lc_rebinned/em01_067126_020_LightCurve_00102_c010_rebinned.fits\n",
      "/pool001/rarcodia/eROSITA_public/data/eRASS1_lc_rebinned/em01_071147_020_LightCurve_00173_c010_rebinned.fits\n",
      "/pool001/rarcodia/eROSITA_public/data/eRASS1_lc_rebinned/em01_074129_020_LightCurve_00011_c010_rebinned.fits\n",
      "/pool001/rarcodia/eROSITA_public/data/eRASS1_lc_rebinned/em01_081141_020_LightCurve_00575_c010_rebinned.fits\n",
      "/pool001/rarcodia/eROSITA_public/data/eRASS1_lc_rebinned/em01_073114_020_LightCurve_00078_c010_rebinned.fits\n",
      "/pool001/rarcodia/eROSITA_public/data/eRASS1_lc_rebinned/em01_090165_020_LightCurve_00009_c010_rebinned.fits\n",
      "/pool001/rarcodia/eROSITA_public/data/eRASS1_lc_rebinned/em01_081141_020_LightCurve_00606_c010_rebinned.fits\n",
      "/pool001/rarcodia/eROSITA_public/data/eRASS1_lc_rebinned/em01_098153_020_LightCurve_00966_c010_rebinned.fits\n",
      "/pool001/rarcodia/eROSITA_public/data/eRASS1_lc_rebinned/em01_092153_020_LightCurve_01010_c010_rebinned.fits\n",
      "/pool001/rarcodia/eROSITA_public/data/eRASS1_lc_rebinned/em01_073114_020_LightCurve_00178_c010_rebinned.fits\n",
      "/pool001/rarcodia/eROSITA_public/data/eRASS1_lc_rebinned/em01_081144_020_LightCurve_00016_c010_rebinned.fits\n",
      "/pool001/rarcodia/eROSITA_public/data/eRASS1_lc_rebinned/em01_073114_020_LightCurve_00202_c010_rebinned.fits\n",
      "/pool001/rarcodia/eROSITA_public/data/eRASS1_lc_rebinned/em01_072141_020_LightCurve_00232_c010_rebinned.fits\n",
      "/pool001/rarcodia/eROSITA_public/data/eRASS1_lc_rebinned/em01_063114_020_LightCurve_00035_c010_rebinned.fits\n",
      "/pool001/rarcodia/eROSITA_public/data/eRASS1_lc_rebinned/em01_071147_020_LightCurve_00474_c010_rebinned.fits\n",
      "/pool001/rarcodia/eROSITA_public/data/eRASS1_lc_rebinned/em01_085117_020_LightCurve_00143_c010_rebinned.fits\n",
      "/pool001/rarcodia/eROSITA_public/data/eRASS1_lc_rebinned/em01_083093_020_LightCurve_00215_c010_rebinned.fits\n",
      "/pool001/rarcodia/eROSITA_public/data/eRASS1_lc_rebinned/em01_097069_020_LightCurve_00006_c010_rebinned.fits\n",
      "/pool001/rarcodia/eROSITA_public/data/eRASS1_lc_rebinned/em01_073132_020_LightCurve_00071_c010_rebinned.fits\n",
      "/pool001/rarcodia/eROSITA_public/data/eRASS1_lc_rebinned/em01_066150_020_LightCurve_00403_c010_rebinned.fits\n",
      "/pool001/rarcodia/eROSITA_public/data/eRASS1_lc_rebinned/em01_077147_020_LightCurve_00373_c010_rebinned.fits\n",
      "/pool001/rarcodia/eROSITA_public/data/eRASS1_lc_rebinned/em01_063114_020_LightCurve_00050_c010_rebinned.fits\n",
      "/pool001/rarcodia/eROSITA_public/data/eRASS1_lc_rebinned/em01_063114_020_LightCurve_00120_c010_rebinned.fits\n",
      "/pool001/rarcodia/eROSITA_public/data/eRASS1_lc_rebinned/em01_060153_020_LightCurve_00078_c010_rebinned.fits\n",
      "/pool001/rarcodia/eROSITA_public/data/eRASS1_lc_rebinned/em01_067144_020_LightCurve_00277_c010_rebinned.fits\n",
      "/pool001/rarcodia/eROSITA_public/data/eRASS1_lc_rebinned/em01_085153_020_LightCurve_00444_c010_rebinned.fits\n",
      "/pool001/rarcodia/eROSITA_public/data/eRASS1_lc_rebinned/em01_071147_020_LightCurve_00544_c010_rebinned.fits\n",
      "/pool001/rarcodia/eROSITA_public/data/eRASS1_lc_rebinned/em01_085153_020_LightCurve_00473_c010_rebinned.fits\n",
      "/pool001/rarcodia/eROSITA_public/data/eRASS1_lc_rebinned/em01_318144_020_LightCurve_00056_c010_rebinned.fits\n",
      "/pool001/rarcodia/eROSITA_public/data/eRASS1_lc_rebinned/em01_208117_020_LightCurve_00044_c010_rebinned.fits\n",
      "/pool001/rarcodia/eROSITA_public/data/eRASS1_lc_rebinned/em01_352147_020_LightCurve_00094_c010_rebinned.fits\n",
      "/pool001/rarcodia/eROSITA_public/data/eRASS1_lc_rebinned/em01_202108_020_LightCurve_00002_c010_rebinned.fits\n",
      "/pool001/rarcodia/eROSITA_public/data/eRASS1_lc_rebinned/em01_275132_020_LightCurve_00037_c010_rebinned.fits\n",
      "/pool001/rarcodia/eROSITA_public/data/eRASS1_lc_rebinned/em01_215087_020_LightCurve_00061_c010_rebinned.fits\n",
      "/pool001/rarcodia/eROSITA_public/data/eRASS1_lc_rebinned/em01_191096_020_LightCurve_00031_c010_rebinned.fits\n",
      "/pool001/rarcodia/eROSITA_public/data/eRASS1_lc_rebinned/em01_266162_020_LightCurve_00023_c010_rebinned.fits\n",
      "/pool001/rarcodia/eROSITA_public/data/eRASS1_lc_rebinned/em01_242117_020_LightCurve_00029_c010_rebinned.fits\n",
      "/pool001/rarcodia/eROSITA_public/data/eRASS1_lc_rebinned/em01_249150_020_LightCurve_00023_c010_rebinned.fits\n",
      "/pool001/rarcodia/eROSITA_public/data/eRASS1_lc_rebinned/em01_319171_020_LightCurve_00020_c010_rebinned.fits\n",
      "/pool001/rarcodia/eROSITA_public/data/eRASS1_lc_rebinned/em01_208117_020_LightCurve_00102_c010_rebinned.fits\n",
      "/pool001/rarcodia/eROSITA_public/data/eRASS1_lc_rebinned/em01_100150_020_LightCurve_00189_c010_rebinned.fits\n",
      "/pool001/rarcodia/eROSITA_public/data/eRASS1_lc_rebinned/em01_357156_020_LightCurve_00030_c010_rebinned.fits\n",
      "/pool001/rarcodia/eROSITA_public/data/eRASS1_lc_rebinned/em01_208117_020_LightCurve_00157_c010_rebinned.fits\n",
      "/pool001/rarcodia/eROSITA_public/data/eRASS1_lc_rebinned/em01_214105_020_LightCurve_00008_c010_rebinned.fits\n",
      "/pool001/rarcodia/eROSITA_public/data/eRASS1_lc_rebinned/em01_222114_020_LightCurve_00084_c010_rebinned.fits\n",
      "/pool001/rarcodia/eROSITA_public/data/eRASS1_lc_rebinned/em01_267129_020_LightCurve_00045_c010_rebinned.fits\n",
      "/pool001/rarcodia/eROSITA_public/data/eRASS1_lc_rebinned/em01_212084_020_LightCurve_00004_c010_rebinned.fits\n",
      "/pool001/rarcodia/eROSITA_public/data/eRASS1_lc_rebinned/em01_320147_020_LightCurve_00036_c010_rebinned.fits\n",
      "/pool001/rarcodia/eROSITA_public/data/eRASS1_lc_rebinned/em01_267132_020_LightCurve_00031_c010_rebinned.fits\n"
     ]
    }
   ],
   "source": [
    "def check_lightcurve_permissions(data_dir = '/pool001/rarcodia/eROSITA_public/data/eRASS1_lc_rebinned'):\n",
    "    \"\"\"\n",
    "    Check permissions for all light curve files in the given directory and save inaccessible ones to a file\n",
    "    in the same directory as this script.\n",
    "    \n",
    "    Args:\n",
    "        data_dir (str): Path to the directory containing light curve files\n",
    "        \n",
    "    Returns:\n",
    "        List[str]: List of files that could not be accessed\n",
    "    \"\"\"\n",
    "    inaccessible_files = []\n",
    "    \n",
    "    # Check if the data directory exists and is accessible\n",
    "    if not os.path.exists(data_dir):\n",
    "        raise FileNotFoundError(f\"Directory {data_dir} does not exist\")\n",
    "    \n",
    "    if not os.access(data_dir, os.R_OK):\n",
    "        raise PermissionError(f\"No read permission for directory {data_dir}\")\n",
    "    \n",
    "    # Get all FITS files in the directory\n",
    "    fits_files = glob.glob(os.path.join(data_dir, \"*.fits\"))\n",
    "    \n",
    "    # Check each file for read permission\n",
    "    for file_path in fits_files:\n",
    "        if not os.access(file_path, os.R_OK):\n",
    "            inaccessible_files.append(file_path)\n",
    "    \n",
    "    # Save inaccessible files to a text file in script directory\n",
    "    output_file = os.path.join(os.getcwd(), \"inaccessible_lightcurves.txt\")\n",
    "    with open(output_file, \"w\") as f:\n",
    "        for file_path in inaccessible_files:\n",
    "            f.write(f\"{file_path}\\n\")\n",
    "    \n",
    "    print(f\"Saved inaccessible files list to: {output_file}\")\n",
    "    return inaccessible_files\n",
    "\n",
    "def read_inaccessible_lightcurves():\n",
    "    \"\"\"\n",
    "    Read the list of inaccessible light curves from the text file in the notebook directory.\n",
    "    \n",
    "    Returns:\n",
    "        list: List of file paths that were inaccessible\n",
    "    \"\"\"\n",
    "    file_path = os.path.join(os.getcwd(), \"inaccessible_lightcurves.txt\")\n",
    "    \n",
    "    try:\n",
    "        with open(file_path, 'r') as f:\n",
    "            # Read all lines and remove any trailing whitespace\n",
    "            inaccessible_files = [line.strip() for line in f.readlines()]\n",
    "        return inaccessible_files\n",
    "    except FileNotFoundError:\n",
    "        print(f\"No inaccessible light curves file found at {file_path}\")\n",
    "        return []\n",
    "\n",
    "a = check_lightcurve_permissions()\n",
    "for i in a:\n",
    "    print(i)"
   ]
  },
  {
   "cell_type": "code",
   "execution_count": 9,
   "id": "5e6a789b-107c-4feb-9685-15e5a45dd72d",
   "metadata": {
    "collapsed": true,
    "jupyter": {
     "outputs_hidden": true
    },
    "tags": []
   },
   "outputs": [
    {
     "name": "stdout",
     "output_type": "stream",
     "text": [
      "['/pool001/rarcodia/eROSITA_public/data/eRASS1_lc_rebinned/em01_039108_020_LightCurve_00089_c010_rebinned.fits', '/pool001/rarcodia/eROSITA_public/data/eRASS1_lc_rebinned/em01_041171_020_LightCurve_00067_c010_rebinned.fits', '/pool001/rarcodia/eROSITA_public/data/eRASS1_lc_rebinned/em01_045132_020_LightCurve_00051_c010_rebinned.fits', '/pool001/rarcodia/eROSITA_public/data/eRASS1_lc_rebinned/em01_072105_020_LightCurve_00016_c010_rebinned.fits', '/pool001/rarcodia/eROSITA_public/data/eRASS1_lc_rebinned/em01_062144_020_LightCurve_00087_c010_rebinned.fits', '/pool001/rarcodia/eROSITA_public/data/eRASS1_lc_rebinned/em01_039108_020_LightCurve_00177_c010_rebinned.fits', '/pool001/rarcodia/eROSITA_public/data/eRASS1_lc_rebinned/em01_056174_020_LightCurve_00052_c010_rebinned.fits', '/pool001/rarcodia/eROSITA_public/data/eRASS1_lc_rebinned/em01_049108_020_LightCurve_00103_c010_rebinned.fits', '/pool001/rarcodia/eROSITA_public/data/eRASS1_lc_rebinned/em01_053132_020_LightCurve_00119_c010_rebinned.fits', '/pool001/rarcodia/eROSITA_public/data/eRASS1_lc_rebinned/em01_057171_020_LightCurve_00036_c010_rebinned.fits', '/pool001/rarcodia/eROSITA_public/data/eRASS1_lc_rebinned/em01_020126_020_LightCurve_00115_c010_rebinned.fits', '/pool001/rarcodia/eROSITA_public/data/eRASS1_lc_rebinned/em01_025129_020_LightCurve_00034_c010_rebinned.fits', '/pool001/rarcodia/eROSITA_public/data/eRASS1_lc_rebinned/em01_033108_020_LightCurve_00204_c010_rebinned.fits', '/pool001/rarcodia/eROSITA_public/data/eRASS1_lc_rebinned/em01_020126_020_LightCurve_00219_c010_rebinned.fits', '/pool001/rarcodia/eROSITA_public/data/eRASS1_lc_rebinned/em01_030132_020_LightCurve_00089_c010_rebinned.fits', '/pool001/rarcodia/eROSITA_public/data/eRASS1_lc_rebinned/em01_061147_020_LightCurve_00511_c010_rebinned.fits', '/pool001/rarcodia/eROSITA_public/data/eRASS1_lc_rebinned/em01_055117_020_LightCurve_00080_c010_rebinned.fits', '/pool001/rarcodia/eROSITA_public/data/eRASS1_lc_rebinned/em01_029120_020_LightCurve_00020_c010_rebinned.fits', '/pool001/rarcodia/eROSITA_public/data/eRASS1_lc_rebinned/em01_055108_020_LightCurve_00009_c010_rebinned.fits', '/pool001/rarcodia/eROSITA_public/data/eRASS1_lc_rebinned/em01_047096_020_LightCurve_00077_c010_rebinned.fits', '/pool001/rarcodia/eROSITA_public/data/eRASS1_lc_rebinned/em01_015138_020_LightCurve_00049_c010_rebinned.fits', '/pool001/rarcodia/eROSITA_public/data/eRASS1_lc_rebinned/em01_066156_020_LightCurve_00141_c010_rebinned.fits', '/pool001/rarcodia/eROSITA_public/data/eRASS1_lc_rebinned/em01_062144_020_LightCurve_00114_c010_rebinned.fits', '/pool001/rarcodia/eROSITA_public/data/eRASS1_lc_rebinned/em01_058165_020_LightCurve_00219_c010_rebinned.fits', '/pool001/rarcodia/eROSITA_public/data/eRASS1_lc_rebinned/em01_055108_020_LightCurve_00034_c010_rebinned.fits', '/pool001/rarcodia/eROSITA_public/data/eRASS1_lc_rebinned/em01_049111_020_LightCurve_00049_c010_rebinned.fits', '/pool001/rarcodia/eROSITA_public/data/eRASS1_lc_rebinned/em01_059129_020_LightCurve_00085_c010_rebinned.fits', '/pool001/rarcodia/eROSITA_public/data/eRASS1_lc_rebinned/em01_025129_020_LightCurve_00134_c010_rebinned.fits', '/pool001/rarcodia/eROSITA_public/data/eRASS1_lc_rebinned/em01_036120_020_LightCurve_00151_c010_rebinned.fits', '/pool001/rarcodia/eROSITA_public/data/eRASS1_lc_rebinned/em01_074120_020_LightCurve_00087_c010_rebinned.fits', '/pool001/rarcodia/eROSITA_public/data/eRASS1_lc_rebinned/em01_045147_020_LightCurve_00119_c010_rebinned.fits', '/pool001/rarcodia/eROSITA_public/data/eRASS1_lc_rebinned/em01_041102_020_LightCurve_00188_c010_rebinned.fits', '/pool001/rarcodia/eROSITA_public/data/eRASS1_lc_rebinned/em01_060135_020_LightCurve_00335_c010_rebinned.fits', '/pool001/rarcodia/eROSITA_public/data/eRASS1_lc_rebinned/em01_079123_020_LightCurve_00012_c010_rebinned.fits', '/pool001/rarcodia/eROSITA_public/data/eRASS1_lc_rebinned/em01_043111_020_LightCurve_00127_c010_rebinned.fits', '/pool001/rarcodia/eROSITA_public/data/eRASS1_lc_rebinned/em01_041114_020_LightCurve_00030_c010_rebinned.fits', '/pool001/rarcodia/eROSITA_public/data/eRASS1_lc_rebinned/em01_054105_020_LightCurve_00057_c010_rebinned.fits', '/pool001/rarcodia/eROSITA_public/data/eRASS1_lc_rebinned/em01_067126_020_LightCurve_00102_c010_rebinned.fits', '/pool001/rarcodia/eROSITA_public/data/eRASS1_lc_rebinned/em01_071147_020_LightCurve_00173_c010_rebinned.fits', '/pool001/rarcodia/eROSITA_public/data/eRASS1_lc_rebinned/em01_074129_020_LightCurve_00011_c010_rebinned.fits', '/pool001/rarcodia/eROSITA_public/data/eRASS1_lc_rebinned/em01_081141_020_LightCurve_00575_c010_rebinned.fits', '/pool001/rarcodia/eROSITA_public/data/eRASS1_lc_rebinned/em01_073114_020_LightCurve_00078_c010_rebinned.fits', '/pool001/rarcodia/eROSITA_public/data/eRASS1_lc_rebinned/em01_090165_020_LightCurve_00009_c010_rebinned.fits', '/pool001/rarcodia/eROSITA_public/data/eRASS1_lc_rebinned/em01_081141_020_LightCurve_00606_c010_rebinned.fits', '/pool001/rarcodia/eROSITA_public/data/eRASS1_lc_rebinned/em01_098153_020_LightCurve_00966_c010_rebinned.fits', '/pool001/rarcodia/eROSITA_public/data/eRASS1_lc_rebinned/em01_092153_020_LightCurve_01010_c010_rebinned.fits', '/pool001/rarcodia/eROSITA_public/data/eRASS1_lc_rebinned/em01_073114_020_LightCurve_00178_c010_rebinned.fits', '/pool001/rarcodia/eROSITA_public/data/eRASS1_lc_rebinned/em01_081144_020_LightCurve_00016_c010_rebinned.fits', '/pool001/rarcodia/eROSITA_public/data/eRASS1_lc_rebinned/em01_073114_020_LightCurve_00202_c010_rebinned.fits', '/pool001/rarcodia/eROSITA_public/data/eRASS1_lc_rebinned/em01_072141_020_LightCurve_00232_c010_rebinned.fits', '/pool001/rarcodia/eROSITA_public/data/eRASS1_lc_rebinned/em01_063114_020_LightCurve_00035_c010_rebinned.fits', '/pool001/rarcodia/eROSITA_public/data/eRASS1_lc_rebinned/em01_071147_020_LightCurve_00474_c010_rebinned.fits', '/pool001/rarcodia/eROSITA_public/data/eRASS1_lc_rebinned/em01_085117_020_LightCurve_00143_c010_rebinned.fits', '/pool001/rarcodia/eROSITA_public/data/eRASS1_lc_rebinned/em01_083093_020_LightCurve_00215_c010_rebinned.fits', '/pool001/rarcodia/eROSITA_public/data/eRASS1_lc_rebinned/em01_097069_020_LightCurve_00006_c010_rebinned.fits', '/pool001/rarcodia/eROSITA_public/data/eRASS1_lc_rebinned/em01_073132_020_LightCurve_00071_c010_rebinned.fits', '/pool001/rarcodia/eROSITA_public/data/eRASS1_lc_rebinned/em01_066150_020_LightCurve_00403_c010_rebinned.fits', '/pool001/rarcodia/eROSITA_public/data/eRASS1_lc_rebinned/em01_077147_020_LightCurve_00373_c010_rebinned.fits', '/pool001/rarcodia/eROSITA_public/data/eRASS1_lc_rebinned/em01_063114_020_LightCurve_00050_c010_rebinned.fits', '/pool001/rarcodia/eROSITA_public/data/eRASS1_lc_rebinned/em01_063114_020_LightCurve_00120_c010_rebinned.fits', '/pool001/rarcodia/eROSITA_public/data/eRASS1_lc_rebinned/em01_060153_020_LightCurve_00078_c010_rebinned.fits', '/pool001/rarcodia/eROSITA_public/data/eRASS1_lc_rebinned/em01_067144_020_LightCurve_00277_c010_rebinned.fits', '/pool001/rarcodia/eROSITA_public/data/eRASS1_lc_rebinned/em01_085153_020_LightCurve_00444_c010_rebinned.fits', '/pool001/rarcodia/eROSITA_public/data/eRASS1_lc_rebinned/em01_071147_020_LightCurve_00544_c010_rebinned.fits', '/pool001/rarcodia/eROSITA_public/data/eRASS1_lc_rebinned/em01_085153_020_LightCurve_00473_c010_rebinned.fits', '/pool001/rarcodia/eROSITA_public/data/eRASS1_lc_rebinned/em01_318144_020_LightCurve_00056_c010_rebinned.fits', '/pool001/rarcodia/eROSITA_public/data/eRASS1_lc_rebinned/em01_208117_020_LightCurve_00044_c010_rebinned.fits', '/pool001/rarcodia/eROSITA_public/data/eRASS1_lc_rebinned/em01_352147_020_LightCurve_00094_c010_rebinned.fits', '/pool001/rarcodia/eROSITA_public/data/eRASS1_lc_rebinned/em01_202108_020_LightCurve_00002_c010_rebinned.fits', '/pool001/rarcodia/eROSITA_public/data/eRASS1_lc_rebinned/em01_275132_020_LightCurve_00037_c010_rebinned.fits', '/pool001/rarcodia/eROSITA_public/data/eRASS1_lc_rebinned/em01_215087_020_LightCurve_00061_c010_rebinned.fits', '/pool001/rarcodia/eROSITA_public/data/eRASS1_lc_rebinned/em01_191096_020_LightCurve_00031_c010_rebinned.fits', '/pool001/rarcodia/eROSITA_public/data/eRASS1_lc_rebinned/em01_266162_020_LightCurve_00023_c010_rebinned.fits', '/pool001/rarcodia/eROSITA_public/data/eRASS1_lc_rebinned/em01_242117_020_LightCurve_00029_c010_rebinned.fits', '/pool001/rarcodia/eROSITA_public/data/eRASS1_lc_rebinned/em01_249150_020_LightCurve_00023_c010_rebinned.fits', '/pool001/rarcodia/eROSITA_public/data/eRASS1_lc_rebinned/em01_319171_020_LightCurve_00020_c010_rebinned.fits', '/pool001/rarcodia/eROSITA_public/data/eRASS1_lc_rebinned/em01_208117_020_LightCurve_00102_c010_rebinned.fits', '/pool001/rarcodia/eROSITA_public/data/eRASS1_lc_rebinned/em01_100150_020_LightCurve_00189_c010_rebinned.fits', '/pool001/rarcodia/eROSITA_public/data/eRASS1_lc_rebinned/em01_357156_020_LightCurve_00030_c010_rebinned.fits', '/pool001/rarcodia/eROSITA_public/data/eRASS1_lc_rebinned/em01_208117_020_LightCurve_00157_c010_rebinned.fits', '/pool001/rarcodia/eROSITA_public/data/eRASS1_lc_rebinned/em01_214105_020_LightCurve_00008_c010_rebinned.fits', '/pool001/rarcodia/eROSITA_public/data/eRASS1_lc_rebinned/em01_222114_020_LightCurve_00084_c010_rebinned.fits', '/pool001/rarcodia/eROSITA_public/data/eRASS1_lc_rebinned/em01_267129_020_LightCurve_00045_c010_rebinned.fits', '/pool001/rarcodia/eROSITA_public/data/eRASS1_lc_rebinned/em01_212084_020_LightCurve_00004_c010_rebinned.fits', '/pool001/rarcodia/eROSITA_public/data/eRASS1_lc_rebinned/em01_320147_020_LightCurve_00036_c010_rebinned.fits', '/pool001/rarcodia/eROSITA_public/data/eRASS1_lc_rebinned/em01_267132_020_LightCurve_00031_c010_rebinned.fits']\n"
     ]
    }
   ],
   "source": [
    "# print(read_inaccessible_lightcurves())"
   ]
  },
  {
   "cell_type": "code",
   "execution_count": null,
   "id": "8c98ae5a-bd31-4b2e-851b-0847dce66a36",
   "metadata": {
    "tags": []
   },
   "outputs": [],
   "source": [
    "def load_n_light_curves(n, data_dir = '/pool001/rarcodia/eROSITA_public/data/eRASS1_lc_rebinned', all = False):\n",
    "    \"\"\"\n",
    "    Loads a specified amount of light curves to analyze.\n",
    "    \n",
    "    Parameters:\n",
    "        n (int): Number of light curves to load.\n",
    "        data_dir (str): The filepath where the data is located\n",
    "        all (bool): True if we want to load all data\n",
    "        band (int): 0 or 1 depending on which band I want to load\n",
    "        \n",
    "    Returns:\n",
    "        light_curves_1 (list): A list of n light curves in 0.2-0.6 keV,\n",
    "        light_curves_2 (list): A list of n light curves in 0.6-2.3keV\n",
    "        light_curves_3 (list): A list of n light curves in 2.3-5.0keV\n",
    "    \"\"\"\n",
    "    \n",
    "    \n",
    "    if all:\n",
    "       # Get the list of all FITS files\n",
    "        fits_files = glob.glob(os.path.join(data_dir, \"*.fits\"))\n",
    "    else:\n",
    "        # Get the list of FITS files and randomly select n files\n",
    "        fits_files = random.sample(glob.glob(os.path.join(data_dir, \"*.fits\")), n)\n",
    "    # Load all light curves into a list of DataFrames\n",
    "    light_curves_1 = [df for df in (load_light_curve(file, band = 0) for file in fits_files) if df is not None]\n",
    "    light_curves_2 = [df for df in (load_light_curve(file, band = 1) for file in fits_files) if df is not None]\n",
    "    light_curves_3 = [df for df in (load_light_curve(file, band = 2) for file in fits_files) if df is not None]\n",
    "    return light_curves_1, light_curves_2, light_curves_3\n",
    "\n",
    "# lightcurves_1, lightcurves_2 = load_n_lightcurves(400)\n",
    "# print('light curves loaded')\n"
   ]
  },
  {
   "cell_type": "markdown",
   "id": "c3d6d520-1dcb-4be1-ad89-8832df4d1292",
   "metadata": {
    "tags": []
   },
   "source": [
    "## Plotting Functions ##"
   ]
  },
  {
   "cell_type": "code",
   "execution_count": 4,
   "id": "45e0179b-8846-4ef9-828e-c0bf415a6784",
   "metadata": {
    "tags": []
   },
   "outputs": [],
   "source": [
    "# Plot all light curves in a grid not adjusting whitspace\n",
    "def plot_light_curves_noadj(light_curves, rows=10, cols=10):\n",
    "    fig, axes = plt.subplots(rows, cols, figsize=(20, 20), sharex=True, sharey=True)\n",
    "    axes = axes.flatten()  # Flatten the grid of axes for easy indexing\n",
    "\n",
    "    for i, df in enumerate(light_curves):\n",
    "        if i >= rows * cols:  # Stop if we exceed the grid size\n",
    "            break\n",
    "        ax = axes[i]\n",
    "        ax.errorbar(\n",
    "            df['TIME'],\n",
    "            df['RATE'],\n",
    "            fmt='o', markersize=2, label=\"Light Curve\"\n",
    "        )\n",
    "        ax.set_title(f\"LC {i+1}\", fontsize=8)\n",
    "        ax.tick_params(axis='both', which='major', labelsize=6)\n",
    "\n",
    "    # Hide unused subplots\n",
    "    for j in range(i+1, rows * cols):\n",
    "        axes[j].axis('off')\n",
    "\n",
    "    plt.tight_layout()\n",
    "    plt.show()"
   ]
  },
  {
   "cell_type": "code",
   "execution_count": 5,
   "id": "b53898a9-3ac1-4723-b5e9-0c33b2f98a28",
   "metadata": {
    "tags": []
   },
   "outputs": [],
   "source": [
    "def plot_light_curves(light_curves, rows=10, cols=10, margin=0.1):\n",
    "    \"\"\"\n",
    "    Plots light curves in a grid, dynamically adjusting the axis limits to reduce whitespace.\n",
    "    \n",
    "    Parameters:\n",
    "        light_curves (list): List of Pandas DataFrames containing light curve data.\n",
    "        rows (int): Number of rows in the grid.\n",
    "        cols (int): Number of columns in the grid.\n",
    "        margin (float): Fractional margin added around data for better visualization.\n",
    "    \"\"\"\n",
    "    fig, axes = plt.subplots(rows, cols, figsize=(20, 20), sharex=False, sharey=False)\n",
    "    axes = axes.flatten()  # Flatten the grid of axes for easy indexing\n",
    "\n",
    "    for i, df in enumerate(light_curves):\n",
    "        if i >= rows * cols:  # Stop if we exceed the grid size\n",
    "            break\n",
    "\n",
    "        ax = axes[i]\n",
    "        \n",
    "        # Plot the light curve -> s is the size of marker\n",
    "        ax.scatter(df['TIME'], df['RATE'], s=2) \n",
    "\n",
    "        # Dynamically adjust axis limits\n",
    "        x_min, x_max = df['TIME'].min(), df['TIME'].max()\n",
    "        y_min, y_max = df['RATE'].min(), df['RATE'].max()\n",
    "\n",
    "        # Add a margin to the limits\n",
    "        x_margin = (x_max - x_min) * margin\n",
    "        y_margin = (y_max - y_min) * margin\n",
    "\n",
    "        ax.set_xlim(x_min - x_margin, x_max + x_margin)\n",
    "        ax.set_ylim(y_min - y_margin, y_max + y_margin)\n",
    "\n",
    "        # Set title and tick parameters\n",
    "        ax.set_title(f\"LC {i+1}\", fontsize=8)\n",
    "        ax.tick_params(axis='both', which='major', labelsize=6)\n",
    "\n",
    "    # Hide unused subplots\n",
    "    for j in range(i + 1, rows * cols):\n",
    "        axes[j].axis('off')\n",
    "\n",
    "    plt.tight_layout()\n",
    "    plt.show()\n",
    "    \n",
    "# Call the plotting function\n",
    "# plot_light_curves(light_curves)"
   ]
  },
  {
   "cell_type": "markdown",
   "id": "b159f6ea-30c3-41d5-aab2-6a0cb12f2aea",
   "metadata": {
    "tags": []
   },
   "source": [
    "## Call the functions to generate plots of light curves ##"
   ]
  },
  {
   "cell_type": "code",
   "execution_count": 6,
   "id": "2dd8f0a2-76b0-4b5e-a0cf-084be706b68b",
   "metadata": {
    "tags": []
   },
   "outputs": [
    {
     "ename": "PermissionError",
     "evalue": "[Errno 13] Permission denied: '/pool001/rarcodia/eROSITA_public/data/eRASS1_lc_rebinned/em01_039108_020_LightCurve_00089_c010_rebinned.fits'",
     "output_type": "error",
     "traceback": [
      "\u001b[0;31m---------------------------------------------------------------------------\u001b[0m",
      "\u001b[0;31mPermissionError\u001b[0m                           Traceback (most recent call last)",
      "Cell \u001b[0;32mIn[6], line 2\u001b[0m\n\u001b[1;32m      1\u001b[0m \u001b[38;5;66;03m# Generate 400 light curves\u001b[39;00m\n\u001b[0;32m----> 2\u001b[0m light_curves_1, light_curves_2, light_curves_3 \u001b[38;5;241m=\u001b[39m load_n_light_curves(\u001b[38;5;241m400\u001b[39m, \u001b[38;5;28mall\u001b[39m \u001b[38;5;241m=\u001b[39m \u001b[38;5;28;01mTrue\u001b[39;00m)\n\u001b[1;32m      4\u001b[0m \u001b[38;5;28mprint\u001b[39m(\u001b[38;5;124m'\u001b[39m\u001b[38;5;124mlight curves generated\u001b[39m\u001b[38;5;124m'\u001b[39m)\n",
      "Cell \u001b[0;32mIn[3], line 25\u001b[0m, in \u001b[0;36mload_n_light_curves\u001b[0;34m(n, data_dir, all)\u001b[0m\n\u001b[1;32m     23\u001b[0m     fits_files \u001b[38;5;241m=\u001b[39m random\u001b[38;5;241m.\u001b[39msample(glob\u001b[38;5;241m.\u001b[39mglob(os\u001b[38;5;241m.\u001b[39mpath\u001b[38;5;241m.\u001b[39mjoin(data_dir, \u001b[38;5;124m\"\u001b[39m\u001b[38;5;124m*.fits\u001b[39m\u001b[38;5;124m\"\u001b[39m)), n)\n\u001b[1;32m     24\u001b[0m \u001b[38;5;66;03m# Load all light curves into a list of DataFrames\u001b[39;00m\n\u001b[0;32m---> 25\u001b[0m light_curves_1 \u001b[38;5;241m=\u001b[39m [df \u001b[38;5;28;01mfor\u001b[39;00m df \u001b[38;5;129;01min\u001b[39;00m (load_light_curve(file, band \u001b[38;5;241m=\u001b[39m \u001b[38;5;241m0\u001b[39m) \u001b[38;5;28;01mfor\u001b[39;00m file \u001b[38;5;129;01min\u001b[39;00m fits_files) \u001b[38;5;28;01mif\u001b[39;00m df \u001b[38;5;129;01mis\u001b[39;00m \u001b[38;5;129;01mnot\u001b[39;00m \u001b[38;5;28;01mNone\u001b[39;00m]\n\u001b[1;32m     26\u001b[0m light_curves_2 \u001b[38;5;241m=\u001b[39m [df \u001b[38;5;28;01mfor\u001b[39;00m df \u001b[38;5;129;01min\u001b[39;00m (load_light_curve(file, band \u001b[38;5;241m=\u001b[39m \u001b[38;5;241m1\u001b[39m) \u001b[38;5;28;01mfor\u001b[39;00m file \u001b[38;5;129;01min\u001b[39;00m fits_files) \u001b[38;5;28;01mif\u001b[39;00m df \u001b[38;5;129;01mis\u001b[39;00m \u001b[38;5;129;01mnot\u001b[39;00m \u001b[38;5;28;01mNone\u001b[39;00m]\n\u001b[1;32m     27\u001b[0m light_curves_3 \u001b[38;5;241m=\u001b[39m [df \u001b[38;5;28;01mfor\u001b[39;00m df \u001b[38;5;129;01min\u001b[39;00m (load_light_curve(file, band \u001b[38;5;241m=\u001b[39m \u001b[38;5;241m2\u001b[39m) \u001b[38;5;28;01mfor\u001b[39;00m file \u001b[38;5;129;01min\u001b[39;00m fits_files) \u001b[38;5;28;01mif\u001b[39;00m df \u001b[38;5;129;01mis\u001b[39;00m \u001b[38;5;129;01mnot\u001b[39;00m \u001b[38;5;28;01mNone\u001b[39;00m]\n",
      "Cell \u001b[0;32mIn[3], line 25\u001b[0m, in \u001b[0;36m<listcomp>\u001b[0;34m(.0)\u001b[0m\n\u001b[1;32m     23\u001b[0m     fits_files \u001b[38;5;241m=\u001b[39m random\u001b[38;5;241m.\u001b[39msample(glob\u001b[38;5;241m.\u001b[39mglob(os\u001b[38;5;241m.\u001b[39mpath\u001b[38;5;241m.\u001b[39mjoin(data_dir, \u001b[38;5;124m\"\u001b[39m\u001b[38;5;124m*.fits\u001b[39m\u001b[38;5;124m\"\u001b[39m)), n)\n\u001b[1;32m     24\u001b[0m \u001b[38;5;66;03m# Load all light curves into a list of DataFrames\u001b[39;00m\n\u001b[0;32m---> 25\u001b[0m light_curves_1 \u001b[38;5;241m=\u001b[39m [df \u001b[38;5;28;01mfor\u001b[39;00m df \u001b[38;5;129;01min\u001b[39;00m (load_light_curve(file, band \u001b[38;5;241m=\u001b[39m \u001b[38;5;241m0\u001b[39m) \u001b[38;5;28;01mfor\u001b[39;00m file \u001b[38;5;129;01min\u001b[39;00m fits_files) \u001b[38;5;28;01mif\u001b[39;00m df \u001b[38;5;129;01mis\u001b[39;00m \u001b[38;5;129;01mnot\u001b[39;00m \u001b[38;5;28;01mNone\u001b[39;00m]\n\u001b[1;32m     26\u001b[0m light_curves_2 \u001b[38;5;241m=\u001b[39m [df \u001b[38;5;28;01mfor\u001b[39;00m df \u001b[38;5;129;01min\u001b[39;00m (load_light_curve(file, band \u001b[38;5;241m=\u001b[39m \u001b[38;5;241m1\u001b[39m) \u001b[38;5;28;01mfor\u001b[39;00m file \u001b[38;5;129;01min\u001b[39;00m fits_files) \u001b[38;5;28;01mif\u001b[39;00m df \u001b[38;5;129;01mis\u001b[39;00m \u001b[38;5;129;01mnot\u001b[39;00m \u001b[38;5;28;01mNone\u001b[39;00m]\n\u001b[1;32m     27\u001b[0m light_curves_3 \u001b[38;5;241m=\u001b[39m [df \u001b[38;5;28;01mfor\u001b[39;00m df \u001b[38;5;129;01min\u001b[39;00m (load_light_curve(file, band \u001b[38;5;241m=\u001b[39m \u001b[38;5;241m2\u001b[39m) \u001b[38;5;28;01mfor\u001b[39;00m file \u001b[38;5;129;01min\u001b[39;00m fits_files) \u001b[38;5;28;01mif\u001b[39;00m df \u001b[38;5;129;01mis\u001b[39;00m \u001b[38;5;129;01mnot\u001b[39;00m \u001b[38;5;28;01mNone\u001b[39;00m]\n",
      "Cell \u001b[0;32mIn[3], line 25\u001b[0m, in \u001b[0;36m<genexpr>\u001b[0;34m(.0)\u001b[0m\n\u001b[1;32m     23\u001b[0m     fits_files \u001b[38;5;241m=\u001b[39m random\u001b[38;5;241m.\u001b[39msample(glob\u001b[38;5;241m.\u001b[39mglob(os\u001b[38;5;241m.\u001b[39mpath\u001b[38;5;241m.\u001b[39mjoin(data_dir, \u001b[38;5;124m\"\u001b[39m\u001b[38;5;124m*.fits\u001b[39m\u001b[38;5;124m\"\u001b[39m)), n)\n\u001b[1;32m     24\u001b[0m \u001b[38;5;66;03m# Load all light curves into a list of DataFrames\u001b[39;00m\n\u001b[0;32m---> 25\u001b[0m light_curves_1 \u001b[38;5;241m=\u001b[39m [df \u001b[38;5;28;01mfor\u001b[39;00m df \u001b[38;5;129;01min\u001b[39;00m (load_light_curve(file, band \u001b[38;5;241m=\u001b[39m \u001b[38;5;241m0\u001b[39m) \u001b[38;5;28;01mfor\u001b[39;00m file \u001b[38;5;129;01min\u001b[39;00m fits_files) \u001b[38;5;28;01mif\u001b[39;00m df \u001b[38;5;129;01mis\u001b[39;00m \u001b[38;5;129;01mnot\u001b[39;00m \u001b[38;5;28;01mNone\u001b[39;00m]\n\u001b[1;32m     26\u001b[0m light_curves_2 \u001b[38;5;241m=\u001b[39m [df \u001b[38;5;28;01mfor\u001b[39;00m df \u001b[38;5;129;01min\u001b[39;00m (load_light_curve(file, band \u001b[38;5;241m=\u001b[39m \u001b[38;5;241m1\u001b[39m) \u001b[38;5;28;01mfor\u001b[39;00m file \u001b[38;5;129;01min\u001b[39;00m fits_files) \u001b[38;5;28;01mif\u001b[39;00m df \u001b[38;5;129;01mis\u001b[39;00m \u001b[38;5;129;01mnot\u001b[39;00m \u001b[38;5;28;01mNone\u001b[39;00m]\n\u001b[1;32m     27\u001b[0m light_curves_3 \u001b[38;5;241m=\u001b[39m [df \u001b[38;5;28;01mfor\u001b[39;00m df \u001b[38;5;129;01min\u001b[39;00m (load_light_curve(file, band \u001b[38;5;241m=\u001b[39m \u001b[38;5;241m2\u001b[39m) \u001b[38;5;28;01mfor\u001b[39;00m file \u001b[38;5;129;01min\u001b[39;00m fits_files) \u001b[38;5;28;01mif\u001b[39;00m df \u001b[38;5;129;01mis\u001b[39;00m \u001b[38;5;129;01mnot\u001b[39;00m \u001b[38;5;28;01mNone\u001b[39;00m]\n",
      "Cell \u001b[0;32mIn[2], line 6\u001b[0m, in \u001b[0;36mload_light_curve\u001b[0;34m(file_path, band)\u001b[0m\n\u001b[1;32m      5\u001b[0m \u001b[38;5;28;01mdef\u001b[39;00m \u001b[38;5;21mload_light_curve\u001b[39m(file_path, band \u001b[38;5;241m=\u001b[39m \u001b[38;5;241m1\u001b[39m):\n\u001b[0;32m----> 6\u001b[0m     \u001b[38;5;28;01mwith\u001b[39;00m fits\u001b[38;5;241m.\u001b[39mopen(file_path) \u001b[38;5;28;01mas\u001b[39;00m hdul:\n\u001b[1;32m      7\u001b[0m         data \u001b[38;5;241m=\u001b[39m hdul[\u001b[38;5;241m1\u001b[39m]\u001b[38;5;241m.\u001b[39mdata  \u001b[38;5;66;03m# Assuming light curve data is in the second HDU\u001b[39;00m\n\u001b[1;32m      8\u001b[0m         \u001b[38;5;28;01mtry\u001b[39;00m:\n",
      "File \u001b[0;32m/home/software/anaconda3/2023.07/lib/python3.11/site-packages/astropy/io/fits/hdu/hdulist.py:175\u001b[0m, in \u001b[0;36mfitsopen\u001b[0;34m(name, mode, memmap, save_backup, cache, lazy_load_hdus, ignore_missing_simple, **kwargs)\u001b[0m\n\u001b[1;32m    172\u001b[0m \u001b[38;5;28;01mif\u001b[39;00m \u001b[38;5;129;01mnot\u001b[39;00m name:\n\u001b[1;32m    173\u001b[0m     \u001b[38;5;28;01mraise\u001b[39;00m \u001b[38;5;167;01mValueError\u001b[39;00m(\u001b[38;5;124mf\u001b[39m\u001b[38;5;124m'\u001b[39m\u001b[38;5;124mEmpty filename: \u001b[39m\u001b[38;5;132;01m{\u001b[39;00mname\u001b[38;5;132;01m!r}\u001b[39;00m\u001b[38;5;124m'\u001b[39m)\n\u001b[0;32m--> 175\u001b[0m \u001b[38;5;28;01mreturn\u001b[39;00m HDUList\u001b[38;5;241m.\u001b[39mfromfile(name, mode, memmap, save_backup, cache,\n\u001b[1;32m    176\u001b[0m                         lazy_load_hdus, ignore_missing_simple, \u001b[38;5;241m*\u001b[39m\u001b[38;5;241m*\u001b[39mkwargs)\n",
      "File \u001b[0;32m/home/software/anaconda3/2023.07/lib/python3.11/site-packages/astropy/io/fits/hdu/hdulist.py:410\u001b[0m, in \u001b[0;36mHDUList.fromfile\u001b[0;34m(cls, fileobj, mode, memmap, save_backup, cache, lazy_load_hdus, ignore_missing_simple, **kwargs)\u001b[0m\n\u001b[1;32m    398\u001b[0m \u001b[38;5;129m@classmethod\u001b[39m\n\u001b[1;32m    399\u001b[0m \u001b[38;5;28;01mdef\u001b[39;00m \u001b[38;5;21mfromfile\u001b[39m(\u001b[38;5;28mcls\u001b[39m, fileobj, mode\u001b[38;5;241m=\u001b[39m\u001b[38;5;28;01mNone\u001b[39;00m, memmap\u001b[38;5;241m=\u001b[39m\u001b[38;5;28;01mNone\u001b[39;00m,\n\u001b[1;32m    400\u001b[0m              save_backup\u001b[38;5;241m=\u001b[39m\u001b[38;5;28;01mFalse\u001b[39;00m, cache\u001b[38;5;241m=\u001b[39m\u001b[38;5;28;01mTrue\u001b[39;00m, lazy_load_hdus\u001b[38;5;241m=\u001b[39m\u001b[38;5;28;01mTrue\u001b[39;00m,\n\u001b[1;32m    401\u001b[0m              ignore_missing_simple\u001b[38;5;241m=\u001b[39m\u001b[38;5;28;01mFalse\u001b[39;00m, \u001b[38;5;241m*\u001b[39m\u001b[38;5;241m*\u001b[39mkwargs):\n\u001b[1;32m    402\u001b[0m \u001b[38;5;250m    \u001b[39m\u001b[38;5;124;03m\"\"\"\u001b[39;00m\n\u001b[1;32m    403\u001b[0m \u001b[38;5;124;03m    Creates an `HDUList` instance from a file-like object.\u001b[39;00m\n\u001b[1;32m    404\u001b[0m \n\u001b[0;32m   (...)\u001b[0m\n\u001b[1;32m    407\u001b[0m \u001b[38;5;124;03m    documentation for details of the parameters accepted by this method).\u001b[39;00m\n\u001b[1;32m    408\u001b[0m \u001b[38;5;124;03m    \"\"\"\u001b[39;00m\n\u001b[0;32m--> 410\u001b[0m     \u001b[38;5;28;01mreturn\u001b[39;00m \u001b[38;5;28mcls\u001b[39m\u001b[38;5;241m.\u001b[39m_readfrom(fileobj\u001b[38;5;241m=\u001b[39mfileobj, mode\u001b[38;5;241m=\u001b[39mmode, memmap\u001b[38;5;241m=\u001b[39mmemmap,\n\u001b[1;32m    411\u001b[0m                          save_backup\u001b[38;5;241m=\u001b[39msave_backup, cache\u001b[38;5;241m=\u001b[39mcache,\n\u001b[1;32m    412\u001b[0m                          ignore_missing_simple\u001b[38;5;241m=\u001b[39mignore_missing_simple,\n\u001b[1;32m    413\u001b[0m                          lazy_load_hdus\u001b[38;5;241m=\u001b[39mlazy_load_hdus, \u001b[38;5;241m*\u001b[39m\u001b[38;5;241m*\u001b[39mkwargs)\n",
      "File \u001b[0;32m/home/software/anaconda3/2023.07/lib/python3.11/site-packages/astropy/io/fits/hdu/hdulist.py:1060\u001b[0m, in \u001b[0;36mHDUList._readfrom\u001b[0;34m(cls, fileobj, data, mode, memmap, cache, lazy_load_hdus, ignore_missing_simple, **kwargs)\u001b[0m\n\u001b[1;32m   1057\u001b[0m \u001b[38;5;28;01mif\u001b[39;00m fileobj \u001b[38;5;129;01mis\u001b[39;00m \u001b[38;5;129;01mnot\u001b[39;00m \u001b[38;5;28;01mNone\u001b[39;00m:\n\u001b[1;32m   1058\u001b[0m     \u001b[38;5;28;01mif\u001b[39;00m \u001b[38;5;129;01mnot\u001b[39;00m \u001b[38;5;28misinstance\u001b[39m(fileobj, _File):\n\u001b[1;32m   1059\u001b[0m         \u001b[38;5;66;03m# instantiate a FITS file object (ffo)\u001b[39;00m\n\u001b[0;32m-> 1060\u001b[0m         fileobj \u001b[38;5;241m=\u001b[39m _File(fileobj, mode\u001b[38;5;241m=\u001b[39mmode, memmap\u001b[38;5;241m=\u001b[39mmemmap, cache\u001b[38;5;241m=\u001b[39mcache)\n\u001b[1;32m   1061\u001b[0m     \u001b[38;5;66;03m# The Astropy mode is determined by the _File initializer if the\u001b[39;00m\n\u001b[1;32m   1062\u001b[0m     \u001b[38;5;66;03m# supplied mode was None\u001b[39;00m\n\u001b[1;32m   1063\u001b[0m     mode \u001b[38;5;241m=\u001b[39m fileobj\u001b[38;5;241m.\u001b[39mmode\n",
      "File \u001b[0;32m/home/software/anaconda3/2023.07/lib/python3.11/site-packages/astropy/io/fits/file.py:170\u001b[0m, in \u001b[0;36m_File.__init__\u001b[0;34m(self, fileobj, mode, memmap, overwrite, cache)\u001b[0m\n\u001b[1;32m    168\u001b[0m     \u001b[38;5;28mself\u001b[39m\u001b[38;5;241m.\u001b[39m_open_fileobj(fileobj, mode, overwrite)\n\u001b[1;32m    169\u001b[0m \u001b[38;5;28;01melif\u001b[39;00m \u001b[38;5;28misinstance\u001b[39m(fileobj, (\u001b[38;5;28mstr\u001b[39m, \u001b[38;5;28mbytes\u001b[39m)):\n\u001b[0;32m--> 170\u001b[0m     \u001b[38;5;28mself\u001b[39m\u001b[38;5;241m.\u001b[39m_open_filename(fileobj, mode, overwrite)\n\u001b[1;32m    171\u001b[0m \u001b[38;5;28;01melse\u001b[39;00m:\n\u001b[1;32m    172\u001b[0m     \u001b[38;5;28mself\u001b[39m\u001b[38;5;241m.\u001b[39m_open_filelike(fileobj, mode, overwrite)\n",
      "File \u001b[0;32m/home/software/anaconda3/2023.07/lib/python3.11/site-packages/astropy/io/fits/file.py:554\u001b[0m, in \u001b[0;36m_File._open_filename\u001b[0;34m(self, filename, mode, overwrite)\u001b[0m\n\u001b[1;32m    551\u001b[0m     \u001b[38;5;28mself\u001b[39m\u001b[38;5;241m.\u001b[39m_overwrite_existing(overwrite, \u001b[38;5;28;01mNone\u001b[39;00m, \u001b[38;5;28;01mTrue\u001b[39;00m)\n\u001b[1;32m    553\u001b[0m \u001b[38;5;28;01mif\u001b[39;00m os\u001b[38;5;241m.\u001b[39mpath\u001b[38;5;241m.\u001b[39mexists(\u001b[38;5;28mself\u001b[39m\u001b[38;5;241m.\u001b[39mname):\n\u001b[0;32m--> 554\u001b[0m     \u001b[38;5;28;01mwith\u001b[39;00m \u001b[38;5;28mopen\u001b[39m(\u001b[38;5;28mself\u001b[39m\u001b[38;5;241m.\u001b[39mname, \u001b[38;5;124m'\u001b[39m\u001b[38;5;124mrb\u001b[39m\u001b[38;5;124m'\u001b[39m) \u001b[38;5;28;01mas\u001b[39;00m f:\n\u001b[1;32m    555\u001b[0m         magic \u001b[38;5;241m=\u001b[39m f\u001b[38;5;241m.\u001b[39mread(\u001b[38;5;241m4\u001b[39m)\n\u001b[1;32m    556\u001b[0m \u001b[38;5;28;01melse\u001b[39;00m:\n",
      "\u001b[0;31mPermissionError\u001b[0m: [Errno 13] Permission denied: '/pool001/rarcodia/eROSITA_public/data/eRASS1_lc_rebinned/em01_039108_020_LightCurve_00089_c010_rebinned.fits'"
     ]
    }
   ],
   "source": [
    "# Generate 400 light curves\n",
    "light_curves_1, light_curves_2, light_curves_3 = load_n_light_curves(400, all = True)\n",
    "\n",
    "print('light curves generated')\n"
   ]
  },
  {
   "cell_type": "code",
   "execution_count": null,
   "id": "6b3c20e9-237a-4b24-aaf7-7dd9d2e9024c",
   "metadata": {
    "tags": []
   },
   "outputs": [],
   "source": [
    "# Call the plotting function\n",
    "plot_light_curves(light_curves_1[0:100], rows = 10, cols = 10)\n",
    "plot_light_curves(light_curves_2[0:100], rows=10, cols = 10)\n",
    "# plot_light_curves(light_curves[100:200], rows = 10, cols = 10)\n",
    "# plot_light_curves(light_curves[200:300], rows = 10, cols = 10)\n",
    "# plot_light_curves(light_curves[300:400], rows = 10, cols = 10)\n",
    "\n"
   ]
  },
  {
   "cell_type": "markdown",
   "id": "9f61d319-4576-43dc-a5ab-8349c4c5ada5",
   "metadata": {
    "tags": []
   },
   "source": [
    "## Look at the errors as well ##"
   ]
  },
  {
   "cell_type": "code",
   "execution_count": null,
   "id": "2e1624fb-7e5d-47c6-9bf5-1a64667f935d",
   "metadata": {
    "tags": []
   },
   "outputs": [],
   "source": [
    "# Function to load a single FITS file and return as a Pandas DataFrame\n",
    "def load_light_curve_error(file_path):\n",
    "    with fits.open(file_path) as hdul:\n",
    "        data = hdul[1].data  # Assuming light curve data is in the second HDU\n",
    "        try:\n",
    "            # print(data[\"RATE_ERRM\"])\n",
    "            # print(data[\"RATE_ERRP\"])\n",
    "            return pd.DataFrame({\n",
    "                'TIME': data['TIME'],\n",
    "                'TIMEDEL': data['TIMEDEL'],\n",
    "                'RATE': data['RATE'][:, 1],  # Use the second energy range\n",
    "                \"RATE_ERRM\": data[\"RATE_ERRM\"][:, 1],\n",
    "                \"RATE_ERRP\": data[\"RATE_ERRP\"][:, 1]\n",
    "            })\n",
    "        except KeyError:\n",
    "            print(f\"Skipping file {file_path}: some key not found\")\n",
    "            return None\n",
    "\n",
    "def load_n_light_curves_error(n, data_dir = '/pool001/rarcodia/eROSITA_public/data/eRASS1_lc_rebinned', all = False):\n",
    "    \"\"\"\n",
    "    Loads a specified amount of light curves to analyze.\n",
    "    \n",
    "    Parameters:\n",
    "        n (int): Number of light curves to load.\n",
    "        data_dir (str): The filepath where the data is located\n",
    "        \n",
    "    Returns:\n",
    "        light_curves (list): \n",
    "    \"\"\"\n",
    "    \n",
    "    \n",
    "    if all:\n",
    "       # Get the list of all FITS files\n",
    "        fits_files = glob.glob(os.path.join(data_dir, \"*.fits\"))\n",
    "    else:\n",
    "        # Get the list of FITS files and randomly select n files\n",
    "        fits_files = random.sample(glob.glob(os.path.join(data_dir, \"*.fits\")), n)\n",
    "    \n",
    "    # Load all light curves into a list of DataFrames\n",
    "    light_curves = [df for df in (load_light_curve_error(file) for file in fits_files) if df is not None]\n",
    "    \n",
    "    return light_curves\n",
    "\n",
    "def plot_light_curves_error(light_curves, rows=10, cols=10, margin=0.1):\n",
    "    \"\"\"\n",
    "    Plots light curves in a grid, dynamically adjusting the axis limits to reduce whitespace.\n",
    "    \n",
    "    Parameters:\n",
    "        light_curves (list): List of Pandas DataFrames containing light curve data.\n",
    "        rows (int): Number of rows in the grid.\n",
    "        cols (int): Number of columns in the grid.\n",
    "        margin (float): Fractional margin added around data for better visualization.\n",
    "    \"\"\"\n",
    "    fig, axes = plt.subplots(rows, cols, figsize=(20, 20), sharex=False, sharey=False)\n",
    "    axes = axes.flatten()  # Flatten the grid of axes for easy indexing\n",
    "\n",
    "    for i, df in enumerate(light_curves):\n",
    "        if i >= rows * cols:  # Stop if we exceed the grid size\n",
    "            break\n",
    "\n",
    "        ax = axes[i]\n",
    "        \n",
    "        # Plot the light curve -> s is the size of marker\n",
    "        ax.errorbar(\n",
    "            df['TIME'], \n",
    "            df['RATE'], \n",
    "            yerr=[df['RATE_ERRM'], df['RATE_ERRP']], #check\n",
    "            fmt='o', markersize=2, label=\"Light Curve\"\n",
    "        )\n",
    "\n",
    "        # Dynamically adjust axis limits\n",
    "        x_min, x_max = df['TIME'].min(), df['TIME'].max()\n",
    "        y_min, y_max = df['RATE'].min(), df['RATE'].max()\n",
    "\n",
    "        # Add a margin to the limits\n",
    "        x_margin = (x_max - x_min) * margin\n",
    "        y_margin = (y_max - y_min) * margin\n",
    "\n",
    "        ax.set_xlim(x_min - x_margin, x_max + x_margin)\n",
    "        ax.set_ylim(y_min - y_margin, y_max + y_margin)\n",
    "\n",
    "        # Set title and tick parameters\n",
    "        ax.set_title(f\"LC {i+1}\", fontsize=8)\n",
    "        ax.tick_params(axis='both', which='major', labelsize=6)\n",
    "\n",
    "    # Hide unused subplots\n",
    "    for j in range(i + 1, rows * cols):\n",
    "        axes[j].axis('off')\n",
    "\n",
    "    plt.tight_layout()\n",
    "    plt.show()\n",
    "    \n",
    "# Call the plotting function\n",
    "\n",
    "light_curves_error = load_n_light_curves_error(100)\n",
    "plot_light_curves_error(light_curves_error, rows = 10, cols = 10)\n"
   ]
  },
  {
   "cell_type": "markdown",
   "id": "f948b479-c7aa-4df3-aa09-9a88bd2eb9c0",
   "metadata": {
    "tags": []
   },
   "source": [
    "## Messing Around with the Data ##"
   ]
  },
  {
   "cell_type": "code",
   "execution_count": null,
   "id": "42cde310-7941-4367-948c-b3010068587a",
   "metadata": {},
   "outputs": [],
   "source": [
    "from astropy.table import Table\n",
    "from astropy.io import fits\n",
    "import numpy as np\n",
    "\n",
    "def read_fits_table(filename):\n",
    "    table = Table.read(filename)\n",
    "    # Convert to native byte order before DataFrame conversion\n",
    "    for col in table.columns:\n",
    "        if table[col].dtype.byteorder not in ('=', '|'):\n",
    "            table[col] = table[col].byteswap().newbyteorder()\n",
    "    return table\n",
    "\n",
    "# Read FITS file into an Astropy Table\n",
    "data_dir = '/pool001/rarcodia/eROSITA_public/data/eRASS1_lc_rebinned'\n",
    "# print(glob.glob(os.path.join(data_dir, \"*.fits\")))\n",
    "# print(glob.glob(os.path.join(data_dir, \"*.fits\")))\n",
    "\n",
    "\n",
    "# Get a list of FITS files\n",
    "fits_file1 = glob.glob(os.path.join(data_dir, \"*.fits\"))[0]\n",
    "\n",
    "\n",
    "\n",
    "# print(glob.glob(os.path.join(data_dir, \"*.fits\"))[:10])\n",
    "table = read_fits_table(fits_file1)\n",
    "# print(table)\n",
    "\n",
    "def flatten_fits_table(table):\n",
    "    flattened_data = {}\n",
    "    \n",
    "    for col_name in table.colnames:\n",
    "        col_data = table[col_name]\n",
    "        if len(col_data.shape) > 1:\n",
    "            # For each dimension in the column, create a new column\n",
    "            for i in range(col_data.shape[1]):\n",
    "                new_col_name = f\"{col_name}_{i}\"\n",
    "                flattened_data[new_col_name] = col_data[:, i]\n",
    "        else:\n",
    "            flattened_data[col_name] = col_data\n",
    "            \n",
    "    return pd.DataFrame(flattened_data)\n",
    "\n",
    "\n",
    "\n",
    "# Convert to pandas DataFrame\n",
    "df = flatten_fits_table(table)\n",
    "\n",
    "print(df)"
   ]
  },
  {
   "cell_type": "code",
   "execution_count": null,
   "id": "9f5ce268-6a18-4fc6-8afc-0dfb2df06c5a",
   "metadata": {},
   "outputs": [],
   "source": []
  },
  {
   "cell_type": "code",
   "execution_count": null,
   "id": "8d761be9-a759-4c5d-8eef-f343cc02452e",
   "metadata": {},
   "outputs": [],
   "source": []
  },
  {
   "cell_type": "code",
   "execution_count": null,
   "id": "00b5bf8a-afaf-433b-b383-18b5624dacb2",
   "metadata": {},
   "outputs": [],
   "source": []
  }
 ],
 "metadata": {
  "kernelspec": {
   "display_name": "Python 3",
   "language": "python",
   "name": "python3"
  },
  "language_info": {
   "codemirror_mode": {
    "name": "ipython",
    "version": 3
   },
   "file_extension": ".py",
   "mimetype": "text/x-python",
   "name": "python",
   "nbconvert_exporter": "python",
   "pygments_lexer": "ipython3",
   "version": "3.11.3"
  }
 },
 "nbformat": 4,
 "nbformat_minor": 5
}
